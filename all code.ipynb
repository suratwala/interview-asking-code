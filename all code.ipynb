{
 "cells": [
  {
   "cell_type": "markdown",
   "metadata": {},
   "source": [
    "# 1. square of first 5 no:"
   ]
  },
  {
   "cell_type": "code",
   "execution_count": 1,
   "metadata": {},
   "outputs": [
    {
     "name": "stdout",
     "output_type": "stream",
     "text": [
      "[0, 1, 4, 9, 16, 25, 36, 49, 64, 81]\n"
     ]
    }
   ],
   "source": [
    "list= [x**2 for x in range(10)]\n",
    "print(list)"
   ]
  },
  {
   "cell_type": "code",
   "execution_count": 14,
   "metadata": {},
   "outputs": [
    {
     "name": "stdout",
     "output_type": "stream",
     "text": [
      "0\n",
      "1\n",
      "4\n",
      "9\n",
      "16\n",
      "25\n"
     ]
    }
   ],
   "source": [
    "\n",
    "def su(n):\n",
    "    s1=0\n",
    "    pr=0\n",
    "    for i in range(0,n):\n",
    "        s1=(s1+i+pr)\n",
    "        pr=i\n",
    "        print(s1)\n",
    "n=6\n",
    "su(n)"
   ]
  },
  {
   "cell_type": "code",
   "execution_count": 6,
   "metadata": {},
   "outputs": [
    {
     "name": "stdout",
     "output_type": "stream",
     "text": [
      "0 1 4 9 16 "
     ]
    }
   ],
   "source": [
    "def Psquare(n):\n",
    "    sum1=0\n",
    "    pr=0\n",
    "    for i in range(0, n):\n",
    "        sum1 = (sum1+i+pr)\n",
    "        print(sum1,end=\" \")\n",
    "        pr=i\n",
    "n=5\n",
    "Psquare(n)"
   ]
  },
  {
   "cell_type": "code",
   "execution_count": 12,
   "metadata": {},
   "outputs": [
    {
     "name": "stdout",
     "output_type": "stream",
     "text": [
      "[1, 4, 9, 16, 25, 36, 49, 64, 81, 100, 121, 144, 169, 196, 225, 256, 289, 324, 361, 400]\n"
     ]
    }
   ],
   "source": [
    "# Python Exercise: Generate and print a list where the values are square of numbers between two numbers\n",
    "def printValues():\n",
    "    l = list()\n",
    "    for i in range(1,21):\n",
    "        l.append(i**2)\n",
    "    print(l)\n",
    "    \n",
    "printValues()"
   ]
  },
  {
   "cell_type": "markdown",
   "metadata": {},
   "source": [
    "# 2. Python Program for Sum of squares of first n natural numbers\n",
    "Input : N = 4\n",
    "Output : 30\n",
    "12 + 22 + 32 + 42\n",
    "= 1 + 4 + 9 + 16\n",
    "= 30"
   ]
  },
  {
   "cell_type": "code",
   "execution_count": 15,
   "metadata": {},
   "outputs": [
    {
     "data": {
      "text/plain": [
       "91"
      ]
     },
     "execution_count": 15,
     "metadata": {},
     "output_type": "execute_result"
    }
   ],
   "source": [
    "def sumofsquare(n):\n",
    "    s2=0\n",
    "    for i in range(0,n+1):\n",
    "        s2=s2+(i*i)\n",
    "    return s2\n",
    "n=6\n",
    "sumofsquare(n)"
   ]
  },
  {
   "cell_type": "markdown",
   "metadata": {},
   "source": [
    "# 3. python prgram for maximum no in list"
   ]
  },
  {
   "cell_type": "code",
   "execution_count": 17,
   "metadata": {},
   "outputs": [
    {
     "name": "stdout",
     "output_type": "stream",
     "text": [
      "99\n"
     ]
    }
   ],
   "source": [
    "l1=[1,2,5,8,8,9,0,10,99]\n",
    "print(max(l1))"
   ]
  },
  {
   "cell_type": "markdown",
   "metadata": {},
   "source": [
    "# 4. python program 2nd highest number"
   ]
  },
  {
   "cell_type": "code",
   "execution_count": 21,
   "metadata": {},
   "outputs": [
    {
     "name": "stdout",
     "output_type": "stream",
     "text": [
      "10\n"
     ]
    }
   ],
   "source": [
    "l1=[1,2,5,8,8,9,0,10,99]\n",
    "l1.sort()\n",
    "print(l1[-2])"
   ]
  },
  {
   "cell_type": "code",
   "execution_count": 22,
   "metadata": {},
   "outputs": [
    {
     "name": "stdout",
     "output_type": "stream",
     "text": [
      "45\n"
     ]
    }
   ],
   "source": [
    "list1 = [10, 20, 4, 45, 99]\n",
    "new_list = set(list1)\n",
    "new_list.remove(max(new_list))\n",
    "print(max(new_list))"
   ]
  },
  {
   "cell_type": "markdown",
   "metadata": {},
   "source": [
    "# 5. python program for reverse order of list"
   ]
  },
  {
   "cell_type": "code",
   "execution_count": 29,
   "metadata": {},
   "outputs": [
    {
     "name": "stdout",
     "output_type": "stream",
     "text": [
      "[1, 5, 6, 7, 1, 8, 9, 10, 11, 44, 55, 77, 88]\n"
     ]
    }
   ],
   "source": [
    "l2=[1,5,6,7,1,8,9,10,11]\n",
    "l3=[44,55,77,88]\n",
    "l2.extend(l3)\n",
    "print(l2)"
   ]
  },
  {
   "cell_type": "code",
   "execution_count": 30,
   "metadata": {},
   "outputs": [
    {
     "name": "stdout",
     "output_type": "stream",
     "text": [
      "[1, 2, 3, 4]\n",
      "[1, 2, (3, 4)]\n"
     ]
    }
   ],
   "source": [
    "a1 = [1, 2]\n",
    "a2 = [1, 2]\n",
    "b = (3, 4)\n",
    "\n",
    "# a1 = [1, 2, 3, 4]\n",
    "a1.extend(b) \n",
    "print(a1)\n",
    "\n",
    "# a2 = [1, 2, (3, 4)]\n",
    "a2.append(b)\n",
    "print(a2)"
   ]
  },
  {
   "cell_type": "markdown",
   "metadata": {},
   "source": [
    "# 6. python remove duplicate number"
   ]
  },
  {
   "cell_type": "code",
   "execution_count": 31,
   "metadata": {},
   "outputs": [
    {
     "name": "stdout",
     "output_type": "stream",
     "text": [
      "The original list is : [1, 3, 5, 6, 3, 5, 6, 1]\n",
      "The list after removing duplicates : [1, 3, 5, 6]\n"
     ]
    }
   ],
   "source": [
    "test_list = [1, 3, 5, 6, 3, 5, 6, 1]\n",
    "print (\"The original list is : \" +  str(test_list))\n",
    "  \n",
    "# using naive method\n",
    "# to remove duplicated \n",
    "# from list \n",
    "res = []\n",
    "for i in test_list:\n",
    "    if i not in res:\n",
    "        res.append(i)\n",
    "  \n",
    "# printing list after removal \n",
    "print (\"The list after removing duplicates : \" + str(res))"
   ]
  },
  {
   "cell_type": "markdown",
   "metadata": {},
   "source": [
    "# 7. python remove duplicate no in list compression"
   ]
  },
  {
   "cell_type": "code",
   "execution_count": 32,
   "metadata": {},
   "outputs": [
    {
     "name": "stdout",
     "output_type": "stream",
     "text": [
      "The original list is : [1, 3, 5, 6, 3, 5, 6, 1]\n",
      "The list after removing duplicates : [1, 3, 5, 6]\n"
     ]
    }
   ],
   "source": [
    "# initializing list\n",
    "test_list = [1, 3, 5, 6, 3, 5, 6, 1]\n",
    "print (\"The original list is : \" +  str(test_list))\n",
    "  \n",
    "\n",
    "res = []\n",
    "[res.append(x) for x in test_list if x not in res]\n",
    "  \n",
    "# printing list after removal \n",
    "print (\"The list after removing duplicates : \" + str(res))"
   ]
  },
  {
   "cell_type": "code",
   "execution_count": 33,
   "metadata": {},
   "outputs": [
    {
     "name": "stdout",
     "output_type": "stream",
     "text": [
      "['a', 'b', 'c']\n"
     ]
    }
   ],
   "source": [
    "mylist = [\"a\", \"b\", \"a\", \"c\", \"c\"]\n",
    "mylist = list(dict.fromkeys(mylist))\n",
    "print(mylist)"
   ]
  },
  {
   "cell_type": "code",
   "execution_count": 34,
   "metadata": {},
   "outputs": [
    {
     "name": "stdout",
     "output_type": "stream",
     "text": [
      "The original list : [1, 3, 4, 5]\n",
      "The original string : gfg\n",
      "The list after appending is : [1, 3, 4, 5, 'gfg']\n"
     ]
    }
   ],
   "source": [
    "test_list = [1, 3, 4, 5]\n",
    "  \n",
    "# initialize string \n",
    "test_str = 'gfg'\n",
    "  \n",
    "# printing original list \n",
    "print(\"The original list : \" + str(test_list))\n",
    "  \n",
    "# printing original string \n",
    "print(\"The original string : \" + str(test_str))\n",
    "  \n",
    "# Appending String to list\n",
    "# using append()\n",
    "test_list.append(test_str)\n",
    "  \n",
    "# printing result\n",
    "print(\"The list after appending is : \" + str(test_list))"
   ]
  },
  {
   "cell_type": "markdown",
   "metadata": {},
   "source": [
    "# 8. python even and odd"
   ]
  },
  {
   "cell_type": "code",
   "execution_count": 35,
   "metadata": {},
   "outputs": [
    {
     "name": "stdout",
     "output_type": "stream",
     "text": [
      "Enter a number: 1\n",
      "1 is Odd\n"
     ]
    }
   ],
   "source": [
    "num = int(input(\"Enter a number: \"))\n",
    "if (num % 2) == 0:\n",
    "   print(\"{0} is Even\".format(num))\n",
    "else:\n",
    "   print(\"{0} is Odd\".format(num))"
   ]
  },
  {
   "cell_type": "code",
   "execution_count": 11,
   "metadata": {},
   "outputs": [
    {
     "name": "stdout",
     "output_type": "stream",
     "text": [
      "5 7 9 11 13 15 17 19 "
     ]
    }
   ],
   "source": [
    "# Python program to print odd Numbers in given range\n",
    "\n",
    "start, end = 4, 19\n",
    "\n",
    "# iterating each number in list\n",
    "for num in range(start, end + 1):\n",
    "    # checking condition\n",
    "    if num % 2 != 0:\n",
    "        print(num, end = \" \")\n"
   ]
  },
  {
   "cell_type": "code",
   "execution_count": 36,
   "metadata": {},
   "outputs": [
    {
     "name": "stdout",
     "output_type": "stream",
     "text": [
      "Enter a year: 500\n",
      "500 is not a leap year\n"
     ]
    }
   ],
   "source": [
    "year = int(input(\"Enter a year: \"))  \n",
    "if (year % 4) == 0:  \n",
    "   if (year % 100) == 0:  \n",
    "       if (year % 400) == 0:  \n",
    "           print(\"{0} is a leap year\".format(year))  \n",
    "       else:  \n",
    "           print(\"{0} is not a leap year\".format(year))  \n",
    "   else:  \n",
    "       print(\"{0} is a leap year\".format(year))  \n",
    "else:  \n",
    "   print(\"{0} is not a leap year\".format(year))  \n",
    "\n",
    "\n"
   ]
  },
  {
   "cell_type": "markdown",
   "metadata": {},
   "source": [
    "# 9. how to create list without inbuilt function"
   ]
  },
  {
   "cell_type": "code",
   "execution_count": 10,
   "metadata": {},
   "outputs": [
    {
     "name": "stdout",
     "output_type": "stream",
     "text": [
      "[]\n",
      "[1, 2, 3]\n",
      "[]\n",
      "[1, 2, 3, 4, 5, 6, 7]\n",
      "[]\n",
      "[(5, 9)]\n",
      "[['for in the list', 'i love india']]\n"
     ]
    }
   ],
   "source": [
    "# inbuilt function\n",
    "l1=[]\n",
    "print(l1)\n",
    "l1.append(1)\n",
    "l1.append(2)\n",
    "l1.append(3)\n",
    "print(l1)\n",
    "\n",
    "# without inbult function\n",
    "l2=[]\n",
    "print(l2)\n",
    "for i in range(1,8):\n",
    "    l2.append(i)\n",
    "print(l2)\n",
    "\n",
    "# or without inbuilt function\n",
    "l3=[]\n",
    "print(l3)\n",
    "l3.append((5,9))\n",
    "print(l3)\n",
    "\n",
    "# or string added\n",
    "l4=[]\n",
    "l5=['for in the list','i love india']\n",
    "l4.append(l5)\n",
    "print(l4)"
   ]
  },
  {
   "cell_type": "markdown",
   "metadata": {},
   "source": [
    "# 10. python code for factorized"
   ]
  },
  {
   "cell_type": "code",
   "execution_count": 21,
   "metadata": {},
   "outputs": [
    {
     "name": "stdout",
     "output_type": "stream",
     "text": [
      "Factorial of 5 is\n"
     ]
    },
    {
     "data": {
      "text/plain": [
       "120"
      ]
     },
     "execution_count": 21,
     "metadata": {},
     "output_type": "execute_result"
    }
   ],
   "source": [
    "# recurssive fatorized method\n",
    "def fact(n):  \n",
    "    return 1 if (n==1 or n==0) else n * fact(n - 1);  \n",
    "  \n",
    "num = 5  \n",
    "print(\"Factorial of\",num,\"is\",)  \n",
    "fact(num) "
   ]
  },
  {
   "cell_type": "code",
   "execution_count": 24,
   "metadata": {},
   "outputs": [
    {
     "name": "stdout",
     "output_type": "stream",
     "text": [
      "enter a factorized: 4\n",
      "24\n"
     ]
    }
   ],
   "source": [
    "# without recurssive function\n",
    "n=int(input(\"enter a factorized: \"))\n",
    "fact=1\n",
    "for i in range(1,n+1):\n",
    "    fact=fact*i\n",
    "print(fact)"
   ]
  },
  {
   "cell_type": "code",
   "execution_count": 23,
   "metadata": {},
   "outputs": [
    {
     "name": "stdout",
     "output_type": "stream",
     "text": [
      "Factorial of 5 is 120\n"
     ]
    }
   ],
   "source": [
    "# Python 3 program to find factorial of given number inbuilt function\n",
    "import math\n",
    "\n",
    "def factorial(n):\n",
    "    return(math.factorial(n))\n",
    "\n",
    "\n",
    "# Driver Code\n",
    "num = 5\n",
    "print(\"Factorial of\", num, \"is\",factorial(num))\n"
   ]
  },
  {
   "cell_type": "markdown",
   "metadata": {},
   "source": [
    "# 11. python code for multiplication table"
   ]
  },
  {
   "cell_type": "code",
   "execution_count": 13,
   "metadata": {},
   "outputs": [
    {
     "name": "stdout",
     "output_type": "stream",
     "text": [
      "Enter the number: 5\n",
      "Multiplication Table of 5\n",
      "5 X 1 = 5\n",
      "5 X 2 = 10\n",
      "5 X 3 = 15\n",
      "5 X 4 = 20\n",
      "5 X 5 = 25\n",
      "5 X 6 = 30\n",
      "5 X 7 = 35\n",
      "5 X 8 = 40\n",
      "5 X 9 = 45\n",
      "5 X 10 = 50\n"
     ]
    }
   ],
   "source": [
    "num = int(input(\"Enter the number: \"))\n",
    "\n",
    "print(\"Multiplication Table of\", num)\n",
    "for i in range(1, 11):\n",
    "   print(num,\"X\",i,\"=\",num * i)"
   ]
  },
  {
   "cell_type": "code",
   "execution_count": 14,
   "metadata": {},
   "outputs": [
    {
     "name": "stdout",
     "output_type": "stream",
     "text": [
      "\n",
      "\n",
      "MULTIPLICATION TABLE FOR 1\n",
      "\n",
      "1     X     1 =     1\n",
      "1     X     2 =     2\n",
      "1     X     3 =     3\n",
      "1     X     4 =     4\n",
      "1     X     5 =     5\n",
      "1     X     6 =     6\n",
      "1     X     7 =     7\n",
      "1     X     8 =     8\n",
      "1     X     9 =     9\n",
      "1     X    10 =    10\n",
      "\n",
      "\n",
      "MULTIPLICATION TABLE FOR 2\n",
      "\n",
      "2     X     1 =     2\n",
      "2     X     2 =     4\n",
      "2     X     3 =     6\n",
      "2     X     4 =     8\n",
      "2     X     5 =    10\n",
      "2     X     6 =    12\n",
      "2     X     7 =    14\n",
      "2     X     8 =    16\n",
      "2     X     9 =    18\n",
      "2     X    10 =    20\n",
      "\n",
      "\n",
      "MULTIPLICATION TABLE FOR 3\n",
      "\n",
      "3     X     1 =     3\n",
      "3     X     2 =     6\n",
      "3     X     3 =     9\n",
      "3     X     4 =    12\n",
      "3     X     5 =    15\n",
      "3     X     6 =    18\n",
      "3     X     7 =    21\n",
      "3     X     8 =    24\n",
      "3     X     9 =    27\n",
      "3     X    10 =    30\n",
      "\n",
      "\n",
      "MULTIPLICATION TABLE FOR 4\n",
      "\n",
      "4     X     1 =     4\n",
      "4     X     2 =     8\n",
      "4     X     3 =    12\n",
      "4     X     4 =    16\n",
      "4     X     5 =    20\n",
      "4     X     6 =    24\n",
      "4     X     7 =    28\n",
      "4     X     8 =    32\n",
      "4     X     9 =    36\n",
      "4     X    10 =    40\n",
      "\n",
      "\n",
      "MULTIPLICATION TABLE FOR 5\n",
      "\n",
      "5     X     1 =     5\n",
      "5     X     2 =    10\n",
      "5     X     3 =    15\n",
      "5     X     4 =    20\n",
      "5     X     5 =    25\n",
      "5     X     6 =    30\n",
      "5     X     7 =    35\n",
      "5     X     8 =    40\n",
      "5     X     9 =    45\n",
      "5     X    10 =    50\n",
      "\n",
      "\n",
      "MULTIPLICATION TABLE FOR 6\n",
      "\n",
      "6     X     1 =     6\n",
      "6     X     2 =    12\n",
      "6     X     3 =    18\n",
      "6     X     4 =    24\n",
      "6     X     5 =    30\n",
      "6     X     6 =    36\n",
      "6     X     7 =    42\n",
      "6     X     8 =    48\n",
      "6     X     9 =    54\n",
      "6     X    10 =    60\n",
      "\n",
      "\n",
      "MULTIPLICATION TABLE FOR 7\n",
      "\n",
      "7     X     1 =     7\n",
      "7     X     2 =    14\n",
      "7     X     3 =    21\n",
      "7     X     4 =    28\n",
      "7     X     5 =    35\n",
      "7     X     6 =    42\n",
      "7     X     7 =    49\n",
      "7     X     8 =    56\n",
      "7     X     9 =    63\n",
      "7     X    10 =    70\n",
      "\n",
      "\n",
      "MULTIPLICATION TABLE FOR 8\n",
      "\n",
      "8     X     1 =     8\n",
      "8     X     2 =    16\n",
      "8     X     3 =    24\n",
      "8     X     4 =    32\n",
      "8     X     5 =    40\n",
      "8     X     6 =    48\n",
      "8     X     7 =    56\n",
      "8     X     8 =    64\n",
      "8     X     9 =    72\n",
      "8     X    10 =    80\n",
      "\n",
      "\n",
      "MULTIPLICATION TABLE FOR 9\n",
      "\n",
      "9     X     1 =     9\n",
      "9     X     2 =    18\n",
      "9     X     3 =    27\n",
      "9     X     4 =    36\n",
      "9     X     5 =    45\n",
      "9     X     6 =    54\n",
      "9     X     7 =    63\n",
      "9     X     8 =    72\n",
      "9     X     9 =    81\n",
      "9     X    10 =    90\n",
      "\n",
      "\n",
      "MULTIPLICATION TABLE FOR 10\n",
      "\n",
      "10    X     1 =    10\n",
      "10    X     2 =    20\n",
      "10    X     3 =    30\n",
      "10    X     4 =    40\n",
      "10    X     5 =    50\n",
      "10    X     6 =    60\n",
      "10    X     7 =    70\n",
      "10    X     8 =    80\n",
      "10    X     9 =    90\n",
      "10    X    10 =   100\n"
     ]
    }
   ],
   "source": [
    "for i in range(1,11):\n",
    "    print(\"\\n\\nMULTIPLICATION TABLE FOR %d\\n\" %(i))\n",
    "    for j in range(1,11):\n",
    "        print(\"%-5d X %5d = %5d\" % (i, j, i*j))"
   ]
  },
  {
   "cell_type": "markdown",
   "metadata": {},
   "source": [
    "# 12. python code for prime number"
   ]
  },
  {
   "cell_type": "code",
   "execution_count": 38,
   "metadata": {},
   "outputs": [
    {
     "name": "stdout",
     "output_type": "stream",
     "text": [
      "Prime numbers between 900 and 1000 are:\n",
      "907\n",
      "911\n",
      "919\n",
      "929\n",
      "937\n",
      "941\n",
      "947\n",
      "953\n",
      "967\n",
      "971\n",
      "977\n",
      "983\n",
      "991\n",
      "997\n"
     ]
    }
   ],
   "source": [
    "# Python program to display all the prime numbers within an interval\n",
    "\n",
    "lower = 900\n",
    "upper = 1000\n",
    "\n",
    "print(\"Prime numbers between\", lower, \"and\", upper, \"are:\")\n",
    "\n",
    "for num in range(lower, upper + 1):\n",
    "   # all prime numbers are greater than 1\n",
    "   if num > 1:\n",
    "        for i in range(2, num):\n",
    "            if (num % i) == 0:\n",
    "                break\n",
    "        else:\n",
    "            print(num)"
   ]
  },
  {
   "cell_type": "code",
   "execution_count": 40,
   "metadata": {},
   "outputs": [
    {
     "name": "stdout",
     "output_type": "stream",
     "text": [
      "11\n",
      "13\n",
      "17\n",
      "19\n",
      "23\n"
     ]
    }
   ],
   "source": [
    "# Python program to print all\n",
    "# prime number in an interval\n",
    "# number should be greater than 1\n",
    "start = 11\n",
    "end = 25\n",
    "\n",
    "for i in range(start, end+1):\n",
    "    if i>1:\n",
    "        for j in range(2,i):\n",
    "            if(i % j==0):\n",
    "                break\n",
    "        else:\n",
    "            print(i)\n"
   ]
  },
  {
   "cell_type": "markdown",
   "metadata": {},
   "source": [
    "# 13. python code for fibonacci sequence\n",
    "A Fibonacci sequence is the integer sequence of 0, 1, 1, 2, 3, 5, 8....\n",
    "\n",
    "The first two terms are 0 and 1. All other terms are obtained by adding the preceding two terms. This means to say the nth term is the sum of (n-1)th and (n-2)th term."
   ]
  },
  {
   "cell_type": "code",
   "execution_count": 36,
   "metadata": {},
   "outputs": [
    {
     "name": "stdout",
     "output_type": "stream",
     "text": [
      "34\n"
     ]
    }
   ],
   "source": [
    "# Function for nth Fibonacci number\n",
    "def Fibonacci(n):\n",
    "    # Check if input is 0 then it will\n",
    "    # print incorrect input\n",
    "    if n < 0:\n",
    "        print(\"Incorrect input\")\n",
    "    # Check if n is 0\n",
    "    # then it will return 0\n",
    "    elif n == 0:\n",
    "        return 0\n",
    "\n",
    "    # Check if n is 1,2\n",
    "    # it will return 1\n",
    "    elif n == 1 or n == 2:\n",
    "        return 1\n",
    "    else:\n",
    "        return Fibonacci(n-1) + Fibonacci(n-2)\n",
    "\n",
    "# Driver Program\n",
    "print(Fibonacci(9))"
   ]
  },
  {
   "cell_type": "code",
   "execution_count": 37,
   "metadata": {},
   "outputs": [
    {
     "name": "stdout",
     "output_type": "stream",
     "text": [
      "How many terms? 5\n",
      "Fibonacci sequence:\n",
      "0\n",
      "1\n",
      "1\n",
      "2\n",
      "3\n"
     ]
    }
   ],
   "source": [
    "# Program to display the Fibonacci sequence up to n-th term\n",
    "\n",
    "nterms = int(input(\"How many terms? \"))\n",
    "\n",
    "# first two terms\n",
    "n1, n2 = 0, 1\n",
    "count = 0\n",
    "\n",
    "# check if the number of terms is valid\n",
    "if nterms <= 0:\n",
    "   print(\"Please enter a positive integer\")\n",
    "elif nterms == 1:\n",
    "   print(\"Fibonacci sequence upto\",nterms,\":\")\n",
    "   print(n1)\n",
    "else:\n",
    "   print(\"Fibonacci sequence:\")\n",
    "   while count < nterms:\n",
    "       print(n1)\n",
    "       nth = n1 + n2\n",
    "       # update values\n",
    "       n1 = n2\n",
    "       n2 = nth\n",
    "       count += 1"
   ]
  },
  {
   "cell_type": "markdown",
   "metadata": {},
   "source": [
    "# 14. python code for polynomorphism"
   ]
  },
  {
   "cell_type": "code",
   "execution_count": 46,
   "metadata": {},
   "outputs": [
    {
     "name": "stdout",
     "output_type": "stream",
     "text": [
      "3\n",
      "Python Programming\n",
      "5\n",
      "9\n"
     ]
    }
   ],
   "source": [
    "'''\n",
    "Example 1: Polymorphism in addition operator\n",
    "We know that the + operator is used extensively in Python programs. But, it does not have a single usage.\n",
    "\n",
    "For integer data types, + operator is used to perform arithmetic addition operation.\n",
    "'''\n",
    "num1 = 1\n",
    "num2 = 2\n",
    "print(num1+num2)\n",
    "\n",
    "# Similarly, for string data types, + operator is used to perform concatenation.\n",
    "\n",
    "str1 = \"Python\"\n",
    "str2 = \"Programming\"\n",
    "print(str1+\" \"+str2)\n",
    "\n",
    "# A simple Python function to demonstrate\n",
    "# Polymorphism\n",
    "\n",
    "def add(x, y, z = 0):\n",
    "    return x + y+z\n",
    "\n",
    "# Driver code\n",
    "print(add(2, 3))\n",
    "print(add(2, 3, 4))\n"
   ]
  },
  {
   "cell_type": "code",
   "execution_count": 43,
   "metadata": {},
   "outputs": [
    {
     "name": "stdout",
     "output_type": "stream",
     "text": [
      "9\n",
      "3\n",
      "2\n"
     ]
    }
   ],
   "source": [
    "'''\n",
    "Function Polymorphism in Python\n",
    "There are some functions in Python which are compatible to run with multiple data types.\n",
    "\n",
    "One such function is the len() function. It can run with many data types in Python. Let's look at some example use cases of the function.\n",
    "\n",
    "Example 2: Polymorphic len() function\n",
    "'''\n",
    "\n",
    "print(len(\"Programiz\"))\n",
    "print(len([\"Python\", \"Java\", \"C\"]))\n",
    "print(len({\"Name\": \"John\", \"Address\": \"Nepal\"}))\n"
   ]
  },
  {
   "cell_type": "code",
   "execution_count": 44,
   "metadata": {},
   "outputs": [
    {
     "name": "stdout",
     "output_type": "stream",
     "text": [
      "Meow\n",
      "I am a cat. My name is Kitty. I am 2.5 years old.\n",
      "Meow\n",
      "Bark\n",
      "I am a dog. My name is Fluffy. I am 4 years old.\n",
      "Bark\n"
     ]
    }
   ],
   "source": [
    "'''\n",
    "Class Polymorphism in Python\n",
    "Polymorphism is a very important concept in Object-Oriented Programming.\n",
    "\n",
    "\n",
    "To learn more about OOP in Python, visit: Python Object-Oriented Programming\n",
    "\n",
    "We can use the concept of polymorphism while creating class methods as Python allows different classes to have methods with the same name.\n",
    "\n",
    "We can then later generalize calling these methods by disregarding the object we are working with. Let's look at an example:\n",
    "\n",
    "Example 3: Polymorphism in Class Methods\n",
    "'''    \n",
    "    \n",
    "class Cat:\n",
    "    def __init__(self, name, age):\n",
    "        self.name = name\n",
    "        self.age = age\n",
    "\n",
    "    def info(self):\n",
    "        print(f\"I am a cat. My name is {self.name}. I am {self.age} years old.\")\n",
    "\n",
    "    def make_sound(self):\n",
    "        print(\"Meow\")\n",
    "\n",
    "\n",
    "class Dog:\n",
    "    def __init__(self, name, age):\n",
    "        self.name = name\n",
    "        self.age = age\n",
    "\n",
    "    def info(self):\n",
    "        print(f\"I am a dog. My name is {self.name}. I am {self.age} years old.\")\n",
    "\n",
    "    def make_sound(self):\n",
    "        print(\"Bark\")\n",
    "\n",
    "\n",
    "cat1 = Cat(\"Kitty\", 2.5)\n",
    "dog1 = Dog(\"Fluffy\", 4)\n",
    "\n",
    "for animal in (cat1, dog1):\n",
    "    animal.make_sound()\n",
    "    animal.info()\n",
    "    animal.make_sound()\n"
   ]
  },
  {
   "cell_type": "code",
   "execution_count": 47,
   "metadata": {},
   "outputs": [
    {
     "name": "stdout",
     "output_type": "stream",
     "text": [
      "New Delhi is the capital of India.\n",
      "Hindi is the most widely spoken language of India.\n",
      "India is a developing country.\n",
      "Washington, D.C. is the capital of USA.\n",
      "English is the primary language of USA.\n",
      "USA is a developed country.\n"
     ]
    }
   ],
   "source": [
    "# polymorphism of class method\n",
    "\n",
    "class India():\n",
    "    def capital(self):\n",
    "        print(\"New Delhi is the capital of India.\")\n",
    "    def language(self):\n",
    "        print(\"Hindi is the most widely spoken language of India.\")\n",
    "    def type(self):\n",
    "        print(\"India is a developing country.\")\n",
    "\n",
    "class USA():\n",
    "    def capital(self):\n",
    "        print(\"Washington, D.C. is the capital of USA.\")\n",
    "    def language(self):\n",
    "        print(\"English is the primary language of USA.\")\n",
    "    def type(self):\n",
    "        print(\"USA is a developed country.\")\n",
    "\n",
    "obj_ind = India()\n",
    "obj_usa = USA()\n",
    "for country in (obj_ind, obj_usa):\n",
    "    country.capital()\n",
    "    country.language()\n",
    "    country.type()\n"
   ]
  },
  {
   "cell_type": "code",
   "execution_count": 45,
   "metadata": {},
   "outputs": [
    {
     "name": "stdout",
     "output_type": "stream",
     "text": [
      "Circle\n",
      "I am a two-dimensional shape.\n",
      "Squares have each angle equal to 90 degrees.\n",
      "153.93804002589985\n"
     ]
    }
   ],
   "source": [
    "'''\n",
    "Polymorphism and Inheritance\n",
    "Like in other programming languages, the child classes in Python also inherit methods and attributes from the parent class. We can redefine certain methods and attributes specifically to fit the child class, which is known as Method Overriding.\n",
    "\n",
    "Polymorphism allows us to access these overridden methods and attributes that have the same name as the parent class.\n",
    "\n",
    "Let's look at an example:\n",
    "\n",
    "Example 4: Method Overriding\n",
    "'''\n",
    "\n",
    "from math import pi\n",
    "\n",
    "\n",
    "class Shape:\n",
    "    def __init__(self, name):\n",
    "        self.name = name\n",
    "\n",
    "    def area(self):\n",
    "        pass\n",
    "\n",
    "    def fact(self):\n",
    "        return \"I am a two-dimensional shape.\"\n",
    "\n",
    "    def __str__(self):\n",
    "        return self.name\n",
    "\n",
    "\n",
    "class Square(Shape):\n",
    "    def __init__(self, length):\n",
    "        super().__init__(\"Square\")\n",
    "        self.length = length\n",
    "\n",
    "    def area(self):\n",
    "        return self.length**2\n",
    "\n",
    "    def fact(self):\n",
    "        return \"Squares have each angle equal to 90 degrees.\"\n",
    "\n",
    "\n",
    "class Circle(Shape):\n",
    "    def __init__(self, radius):\n",
    "        super().__init__(\"Circle\")\n",
    "        self.radius = radius\n",
    "\n",
    "    def area(self):\n",
    "        return pi*self.radius**2\n",
    "\n",
    "\n",
    "a = Square(4)\n",
    "b = Circle(7)\n",
    "print(b)\n",
    "print(b.fact())\n",
    "print(a.fact())\n",
    "print(b.area())\n"
   ]
  },
  {
   "cell_type": "code",
   "execution_count": 48,
   "metadata": {},
   "outputs": [
    {
     "name": "stdout",
     "output_type": "stream",
     "text": [
      "New Delhi is the capital of India.\n",
      "Hindi is the most widely spoken language of India.\n",
      "India is a developing country.\n",
      "Washington, D.C. is the capital of USA.\n",
      "English is the primary language of USA.\n",
      "USA is a developed country.\n"
     ]
    }
   ],
   "source": [
    "'''\n",
    "Polymorphism with a Function and objects:\n",
    "It is also possible to create a function that can take any object, allowing for polymorphism. \n",
    "In this example, let’s create a function called “func()” \n",
    "which will take an object which we will name “obj”. Though we are using the name ‘obj’, any instantiated object will be able to be called into this function. Next, lets give the function something to do that uses the ‘obj’ object we passed to it. In this case lets call the three methods, viz., capital(), language() and type(), each of which is defined in the two classes ‘India’ and ‘USA’. Next, let’s create instantiations of both the ‘India’ and ‘USA’ classes if we don’t have them already. With those, we can call their action using the same func() function:\n",
    "'''\n",
    "\n",
    "class India():\n",
    "    def capital(self):\n",
    "        print(\"New Delhi is the capital of India.\")\n",
    "    def language(self):\n",
    "        print(\"Hindi is the most widely spoken language of India.\")\n",
    "    def type(self):\n",
    "        print(\"India is a developing country.\")\n",
    "\n",
    "class USA():\n",
    "    def capital(self):\n",
    "        print(\"Washington, D.C. is the capital of USA.\")\n",
    "    def language(self):\n",
    "        print(\"English is the primary language of USA.\")\n",
    "    def type(self):\n",
    "        print(\"USA is a developed country.\")\n",
    "\n",
    "def func(obj):\n",
    "    obj.capital()\n",
    "    obj.language()\n",
    "    obj.type()\n",
    "\n",
    "obj_ind = India()\n",
    "obj_usa = USA()\n",
    "\n",
    "func(obj_ind)\n",
    "func(obj_usa)\n"
   ]
  },
  {
   "cell_type": "markdown",
   "metadata": {},
   "source": [
    "# 15. python code for inheritence"
   ]
  },
  {
   "cell_type": "code",
   "execution_count": 51,
   "metadata": {},
   "outputs": [
    {
     "name": "stdout",
     "output_type": "stream",
     "text": [
      "Rahul\n",
      "886012\n"
     ]
    }
   ],
   "source": [
    "# Python code to demonstrate how parent constructors\n",
    "# are called.\n",
    "\n",
    "# parent class\n",
    "class Person( object ):\n",
    "    # __init__ is known as the constructor\n",
    "    def __init__(self, name, idnumber):\n",
    "        self.name = name\n",
    "        self.idnumber = idnumber\n",
    "    def display(self):\n",
    "        print(self.name)\n",
    "        print(self.idnumber)\n",
    "\n",
    "# child class\n",
    "class Employee( Person ):\n",
    "    def __init__(self, name, idnumber, salary, post):\n",
    "        self.salary = salary\n",
    "        self.post = post\n",
    "        # invoking the __init__ of the parent class\n",
    "        Person.__init__(self, name, idnumber)\n",
    "        \n",
    "# creation of an object variable or an instance\n",
    "a = Employee('Rahul', 886012, 200000, \"Intern\")\t\n",
    "\n",
    "# calling a function of the class Person using its instance\n",
    "a.display()\n"
   ]
  },
  {
   "cell_type": "markdown",
   "metadata": {},
   "source": [
    "# 16. python code for check your mobile no and email address is valid or not\n",
    "\n",
    "1. Mobile Number validation criteria:\n",
    "\n",
    "The first digit should contain number between 7 to 9.\n",
    "The rest 9 digit can contain any number between 0 to 9.\n",
    "The mobile number can have 11 digits also by including 0 at the starting.\n",
    "The mobile number can be of 12 digits also by including 91 at the starting\n",
    "The number which satisfies the above criteria, is a valid mobile Number. \n",
    "Examples:\n",
    "\n",
    "Input : Enter Mobile Number:\n",
    "        7873923408\n",
    "Output :Valid Mobile Number\n",
    "\n",
    "Input : Enter Mobile Number:\n",
    "        5678729234\n",
    "Output :Invalid Mobile Number\n",
    "Prerequisites : Java Regular Expressions\n",
    "\n",
    "\n",
    "2. Email id is valid or not \n",
    "rerequisite: Regex in Python\n",
    "Given a string, write a Python program to check if the string is a valid email address or not. \n",
    "An email is a string (a subset of ASCII characters) separated into two parts by @ symbol, a “personal_info” and a domain, that is personal_info@domain.\n",
    "Examples: \n",
    "\n",
    "Input:  ankitrai326@gmail.com\n",
    "Output: Valid Email\n",
    "\n",
    "Input: my.ownsite@ourearth.org\n",
    "Output: Valid Email\n",
    "\n",
    "Input: ankitrai326.com\n",
    "Output: Invalid Email \n",
    "In this program, we are using search() method of re module. so let’s see the description about it.\n",
    "re.search() : This method either returns None (if the pattern doesn’t match), or re.MatchObject that contains information about the matching part of the string. This method stops after the first match, so this is best suited for testing a regular expression more than extracting data. \n",
    "Let’s see the Python program to validate an Email : \n",
    "\n"
   ]
  },
  {
   "cell_type": "code",
   "execution_count": 55,
   "metadata": {},
   "outputs": [
    {
     "name": "stdout",
     "output_type": "stream",
     "text": [
      "Invalid Number\n"
     ]
    }
   ],
   "source": [
    "# 1. Mobile Number validation criteria:\n",
    "\n",
    "# Python program to check if\n",
    "# given mobile number is valid\n",
    "import re\n",
    "\n",
    "def isValid(s):\n",
    "    # 1) Begins with 0 or 91\n",
    "    # 2) Then contains 7 or 8 or 9.\n",
    "    # 3) Then contains 9 digits\n",
    "    Pattern = re.compile(\"(0/91)?[7-9][0-9]{9}\")\n",
    "    return Pattern.match(s)\n",
    "\n",
    "# Driver Code\n",
    "s = \"347873923408\"\n",
    "if (isValid(s)):\n",
    "    print (\"Valid Number\")\n",
    "else :\n",
    "    print (\"Invalid Number\")\n",
    "\n",
    "\n",
    "# This code is contributed by rishabh_jain\n"
   ]
  },
  {
   "cell_type": "code",
   "execution_count": 61,
   "metadata": {},
   "outputs": [
    {
     "name": "stdout",
     "output_type": "stream",
     "text": [
      "Valid Email\n",
      "Valid Email\n",
      "Invalid Email\n"
     ]
    }
   ],
   "source": [
    "# 2. Email id is valid or not \n",
    "\n",
    "# Python program to validate an Email\n",
    "\n",
    "# import re module\n",
    "\n",
    "# re module provides support\n",
    "# for regular expressions\n",
    "import re\n",
    "\n",
    "# Make a regular expression\n",
    "# for validating an Email\n",
    "regex = '^(\\w|\\.|\\_|\\-)+[@](\\w|\\_|\\-|\\.)+[.]\\w{2,3}$'\n",
    "\n",
    "# Define a function for\n",
    "# for validating an Email\n",
    "\n",
    "\n",
    "def check(email):\n",
    "    # pass the regular expression and the string in search() method\n",
    "    if(re.search(regex, email)):\n",
    "        print(\"Valid Email\")\n",
    "    else:\n",
    "        print(\"Invalid Email\")\n",
    "\n",
    "\n",
    "# Driver Code\n",
    "if __name__ == '__main__':\n",
    "    # Enter the email\n",
    "    email = \"ankitrai326@gmail.com\"\n",
    "    # calling run function\n",
    "    check(email)\n",
    "    email = \"my.ownsite@our-earth.org\"\n",
    "    check(email)\n",
    "    email = \"ankitrai326.com\"\n",
    "    check(email)\n"
   ]
  },
  {
   "cell_type": "markdown",
   "metadata": {},
   "source": [
    "# 17. python code for count double word and number count"
   ]
  },
  {
   "cell_type": "code",
   "execution_count": 29,
   "metadata": {},
   "outputs": [
    {
     "name": "stdout",
     "output_type": "stream",
     "text": [
      "['b', 'n']\n"
     ]
    }
   ],
   "source": [
    "some_list=['a','b','c','b','d','m','n','n']\n",
    "\n",
    "my_list=sorted(some_list)\n",
    " \n",
    "duplicates=[]\n",
    "for i in my_list:\n",
    "     if my_list.count(i)>1:\n",
    "         if i not in duplicates:\n",
    "             duplicates.append(i)\n",
    " \n",
    "print(duplicates)"
   ]
  },
  {
   "cell_type": "code",
   "execution_count": 32,
   "metadata": {},
   "outputs": [
    {
     "name": "stdout",
     "output_type": "stream",
     "text": [
      "{'a': 3, 'b': 1, 'c': 3}\n",
      "{'b': 2, 'a': 4, 'c': 2}\n"
     ]
    }
   ],
   "source": [
    "MyList = [\"a\", \"b\", \"a\", \"c\", \"c\", \"a\", \"c\"]\n",
    "\n",
    "my_dict = {i:MyList.count(i) for i in MyList}\n",
    "print(my_dict)\n",
    "\n",
    "MyList = [\"b\", \"a\", \"a\", \"c\", \"b\", \"a\", \"c\",'a']\n",
    "duplicate_dict = {i:MyList.count(i) for i in MyList}\n",
    "print(duplicate_dict)"
   ]
  },
  {
   "cell_type": "code",
   "execution_count": 33,
   "metadata": {},
   "outputs": [
    {
     "name": "stdout",
     "output_type": "stream",
     "text": [
      "Counter({'a': 3, 'c': 3, 'b': 1})\n",
      "3\n"
     ]
    }
   ],
   "source": [
    "#we need to import counter function.\n",
    "from collections import Counter\n",
    "MyList = [\"a\", \"b\", \"a\", \"c\", \"c\", \"a\", \"c\"]\n",
    "duplicate_dict = Counter(MyList)\n",
    "print(duplicate_dict)#to get occurence of each of the element.\n",
    "print(duplicate_dict['a'])# to get occurence of specific element."
   ]
  },
  {
   "cell_type": "code",
   "execution_count": 34,
   "metadata": {},
   "outputs": [
    {
     "name": "stdout",
     "output_type": "stream",
     "text": [
      "2\n"
     ]
    }
   ],
   "source": [
    "MyList = [\"b\", \"a\", \"a\", \"c\", \"b\", \"a\", \"c\",'a']\n",
    "counter_b=MyList.count('b')\n",
    "print(counter_b)"
   ]
  },
  {
   "cell_type": "code",
   "execution_count": 35,
   "metadata": {},
   "outputs": [
    {
     "name": "stdout",
     "output_type": "stream",
     "text": [
      "the number of a in MyList is : 4\n"
     ]
    }
   ],
   "source": [
    "# without inbuilt function\n",
    "MyList = [\"b\", \"a\", \"a\", \"c\", \"b\", \"a\", \"c\",'a']\n",
    "count=0\n",
    "for i in MyList:\n",
    "    if i == 'a': \n",
    "        count = count + 1  \n",
    "print (\"the number of a in MyList is :\", count)"
   ]
  },
  {
   "cell_type": "markdown",
   "metadata": {},
   "source": [
    "# 18. python code for armstrong number\n",
    "A number is called Armstrong number if it is equal to the sum of the cubes of its own digits.\n",
    "\n",
    "For example: 153 is an Armstrong number since 153 = 1*1*1 + 5*5*5 + 3*3*3."
   ]
  },
  {
   "cell_type": "code",
   "execution_count": 26,
   "metadata": {},
   "outputs": [
    {
     "name": "stdout",
     "output_type": "stream",
     "text": [
      "Enter a number: 257\n",
      "257 is not an Armstrong number\n"
     ]
    }
   ],
   "source": [
    "num = int(input(\"Enter a number: \"))  \n",
    "sum = 0  \n",
    "temp = num  \n",
    "  \n",
    "while temp > 0:  \n",
    "   digit = temp % 10  \n",
    "   sum += digit ** 3  \n",
    "   temp //= 10  \n",
    "  \n",
    "if num == sum:  \n",
    "   print(num,\"is an Armstrong number\")  \n",
    "else:  \n",
    "   print(num,\"is not an Armstrong number\")"
   ]
  },
  {
   "cell_type": "code",
   "execution_count": 27,
   "metadata": {},
   "outputs": [
    {
     "name": "stdout",
     "output_type": "stream",
     "text": [
      "Enter lower range: 153\n",
      "Enter upper range: 478\n",
      "153\n",
      "216\n",
      "370\n",
      "371\n",
      "407\n"
     ]
    }
   ],
   "source": [
    "lower = int(input(\"Enter lower range: \"))  \n",
    "upper = int(input(\"Enter upper range: \"))  \n",
    "  \n",
    "for num in range(lower,upper + 1):  \n",
    "   sum = 0  \n",
    "   temp = num  \n",
    "   while temp > 0:  \n",
    "       digit = temp % 10  \n",
    "       sum += digit ** 3  \n",
    "       temp //= 10  \n",
    "       if num == sum:  \n",
    "            print(num)  "
   ]
  },
  {
   "cell_type": "markdown",
   "metadata": {},
   "source": [
    "# 19. pyhton code for method overloading"
   ]
  },
  {
   "cell_type": "code",
   "execution_count": 53,
   "metadata": {},
   "outputs": [
    {
     "name": "stdout",
     "output_type": "stream",
     "text": [
      "Nothing to find\n",
      "Area of square: 100\n",
      "Area of Rectangle: 200\n"
     ]
    }
   ],
   "source": [
    "class Area:\n",
    "    def find_area(self,a=None,b=None):\n",
    "        if a!=None and b!=None:\n",
    "            print(\"Area of Rectangle:\",(a*b))\n",
    "        elif a!=None:\n",
    "            print(\"Area of square:\",(a*a))\n",
    "        else:\n",
    "            print(\"Nothing to find\")\n",
    "obj1=Area()\n",
    "obj1.find_area()\n",
    "obj1.find_area(10)\n",
    "obj1.find_area(10,20)"
   ]
  },
  {
   "cell_type": "code",
   "execution_count": 54,
   "metadata": {},
   "outputs": [
    {
     "name": "stdout",
     "output_type": "stream",
     "text": [
      "100\n"
     ]
    }
   ],
   "source": [
    "# First product method.\n",
    "# Takes two argument and print their\n",
    "# product\n",
    "def product(a, b):\n",
    "    p = a * b\n",
    "    print(p)\n",
    "\n",
    "# Second product method\n",
    "# Takes three argument and print their\n",
    "# product\n",
    "def product(a, b, c):\n",
    "    p = a * b*c\n",
    "    print(p)\n",
    "\n",
    "# Uncommenting the below line shows an error\t\n",
    "# product(4, 5)\n",
    "\n",
    "# This line will call the second product method\n",
    "product(4, 5, 5)\n"
   ]
  },
  {
   "cell_type": "markdown",
   "metadata": {},
   "source": [
    "# 20. list created previous all no add"
   ]
  },
  {
   "cell_type": "code",
   "execution_count": 6,
   "metadata": {},
   "outputs": [
    {
     "name": "stdout",
     "output_type": "stream",
     "text": [
      "[4, 6, 7, 10]\n"
     ]
    }
   ],
   "source": [
    "L = [4, 2, 1, 3]\n",
    "def add_one_by_one(L):\n",
    "    new_L = []\n",
    "    for elt in L:\n",
    "        if len(new_L)>0:\n",
    "            new_L.append(new_L[-1]+elt)\n",
    "        else:\n",
    "            new_L.append(elt)\n",
    "    return new_L\n",
    "\n",
    "new_L = add_one_by_one(L)\n",
    "print(new_L)"
   ]
  },
  {
   "cell_type": "markdown",
   "metadata": {},
   "source": [
    "# 21. reverse order of list without inbuilt funtion in python"
   ]
  },
  {
   "cell_type": "code",
   "execution_count": 7,
   "metadata": {},
   "outputs": [
    {
     "name": "stdout",
     "output_type": "stream",
     "text": [
      "[5, 4, 3, 2, 1]\n"
     ]
    }
   ],
   "source": [
    "def myfunc(a):\n",
    "    rev_str = []\n",
    "    for x in a:\n",
    "        rev_str.insert(0, x)\n",
    "    return rev_str\n",
    "print(myfunc([1,2,3,4,5]))"
   ]
  },
  {
   "cell_type": "code",
   "execution_count": 8,
   "metadata": {},
   "outputs": [
    {
     "name": "stdout",
     "output_type": "stream",
     "text": [
      "[5, 4, 3, 2, 1]\n"
     ]
    }
   ],
   "source": [
    "y=[1,2,3,4,5]\n",
    "z=y[::-1]\n",
    "print(z)"
   ]
  },
  {
   "cell_type": "code",
   "execution_count": 9,
   "metadata": {},
   "outputs": [
    {
     "name": "stdout",
     "output_type": "stream",
     "text": [
      "Original List :  [20, 70, 60, 40]\n",
      "Reversed List :  [40, 60, 70, 20]\n"
     ]
    }
   ],
   "source": [
    "mylist = [20,70,60,40]\n",
    " \n",
    "print(\"Original List : \", mylist)\n",
    " \n",
    "mylist.reverse()\n",
    " \n",
    "print(\"Reversed List : \", mylist)\n",
    " "
   ]
  },
  {
   "cell_type": "code",
   "execution_count": 10,
   "metadata": {},
   "outputs": [
    {
     "name": "stdout",
     "output_type": "stream",
     "text": [
      "Original List :  ['Rani', 'Jam', 'Linda', 'Dazy']\n",
      "Reversed List :  ['Dazy', 'Linda', 'Jam', 'Rani']\n"
     ]
    }
   ],
   "source": [
    "\n",
    "mylist = [\"Rani\", \"Jam\", \"Linda\", \"Dazy\"]\n",
    " \n",
    "print(\"Original List : \", mylist)\n",
    " \n",
    "my_rev_list = mylist[:: -1]\n",
    " \n",
    "print(\"Reversed List : \", my_rev_list)"
   ]
  },
  {
   "cell_type": "code",
   "execution_count": 11,
   "metadata": {},
   "outputs": [
    {
     "name": "stdout",
     "output_type": "stream",
     "text": [
      "Original List :  ['Rani', 'Jam', 'Linda', 'Dazy']\n",
      "Reversed List : \n",
      "Dazy\n",
      "Linda\n",
      "Jam\n",
      "Rani\n"
     ]
    }
   ],
   "source": [
    "mylist = [\"Rani\", \"Jam\", \"Linda\", \"Dazy\"]\n",
    " \n",
    "print(\"Original List : \", mylist)\n",
    " \n",
    "print(\"Reversed List : \")\n",
    " \n",
    "for item in reversed(mylist):\n",
    " \n",
    "    print(item)"
   ]
  },
  {
   "cell_type": "markdown",
   "metadata": {},
   "source": [
    "# Reverse A List Without Using Built-in Functions\n",
    "Now we will discuss reverse a list without using any built-in functions. So what we have to do, let’s see.\n",
    "\n",
    "Technically, to reverse a list you can either transfer \n",
    "the elements in the current list backwards to a new list or you can swap around the elements in the same list object.\n",
    "Here i am doing the first one.\n",
    "To achieve this, we have to use a while loop in a function, while initializing a new list.\n",
    "So the complete code for this is following."
   ]
  },
  {
   "cell_type": "code",
   "execution_count": 12,
   "metadata": {},
   "outputs": [
    {
     "name": "stdout",
     "output_type": "stream",
     "text": [
      "Reversed List :  [4, 3, 2, 1]\n"
     ]
    }
   ],
   "source": [
    "def reverse_list(list):\n",
    "    new = []\n",
    "    count = len(list)-1\n",
    "    while count>= 0:\n",
    "        new.append(list[count])\n",
    "        count -= 1\n",
    "    return new\n",
    " \n",
    " \n",
    "print(\"Reversed List : \", reverse_list([1,2,3,4]))"
   ]
  },
  {
   "cell_type": "code",
   "execution_count": 14,
   "metadata": {},
   "outputs": [
    {
     "name": "stdout",
     "output_type": "stream",
     "text": [
      "code practice quiz geeks\n"
     ]
    }
   ],
   "source": [
    "# Function to reverse words of string\n",
    "\n",
    "def rev_sentence(sentence):\n",
    "\n",
    "\t# first split the string into words\n",
    "\twords = sentence.split(' ')\n",
    "\n",
    "\t# then reverse the split string list and join using space\n",
    "\treverse_sentence = ' '.join(reversed(words))\n",
    "\n",
    "\t# finally return the joined string\n",
    "\treturn reverse_sentence\n",
    "\n",
    "if __name__ == \"__main__\":\n",
    "\tinput = 'geeks quiz practice code'\n",
    "\tprint (rev_sentence(input))\n"
   ]
  },
  {
   "cell_type": "code",
   "execution_count": 18,
   "metadata": {},
   "outputs": [
    {
     "ename": "IndentationError",
     "evalue": "expected an indented block (<ipython-input-18-e29be4ba1f8e>, line 5)",
     "output_type": "error",
     "traceback": [
      "\u001b[1;36m  File \u001b[1;32m\"<ipython-input-18-e29be4ba1f8e>\"\u001b[1;36m, line \u001b[1;32m5\u001b[0m\n\u001b[1;33m    str = \" \"\u001b[0m\n\u001b[1;37m    ^\u001b[0m\n\u001b[1;31mIndentationError\u001b[0m\u001b[1;31m:\u001b[0m expected an indented block\n"
     ]
    }
   ],
   "source": [
    "## Python code to reverse a string\n",
    "# using loop\n",
    "\n",
    "def reverse(s):\n",
    "str = \" \"\n",
    "for i in s:\n",
    "\tstr = i + str\n",
    "return str\n",
    "\n",
    "s = \"Geeksforgeeks\"\n",
    "\n",
    "print (\"The original string is : \",end=\"\")\n",
    "print (s)\n",
    "\n",
    "print (\"The reversed string(using loops) is : \",end=\"\")\n",
    "print (reverse(s))\n"
   ]
  },
  {
   "cell_type": "markdown",
   "metadata": {},
   "source": [
    "# 22. count vowel in string using python"
   ]
  },
  {
   "cell_type": "code",
   "execution_count": 3,
   "metadata": {},
   "outputs": [
    {
     "name": "stdout",
     "output_type": "stream",
     "text": [
      "7\n"
     ]
    }
   ],
   "source": [
    "vowels='aeiou'\n",
    "######### up a count variable initialize to 0\n",
    "count=0\n",
    "#Check if each character of input string belong to vowel string. If yes increment the count\n",
    "string='Hello How are you?' \n",
    "for s in string:\n",
    "    if s in vowels:\n",
    "        count=count+1\n",
    "print(count)"
   ]
  },
  {
   "cell_type": "code",
   "execution_count": null,
   "metadata": {},
   "outputs": [],
   "source": [
    "# 23. "
   ]
  },
  {
   "cell_type": "code",
   "execution_count": 13,
   "metadata": {},
   "outputs": [
    {
     "name": "stdout",
     "output_type": "stream",
     "text": [
      "Hello World\n"
     ]
    }
   ],
   "source": [
    "a = \"Hello\"\n",
    "b = \"World\"\n",
    "c = a + \" \" + b\n",
    "print(c)"
   ]
  },
  {
   "cell_type": "code",
   "execution_count": null,
   "metadata": {},
   "outputs": [],
   "source": []
  }
 ],
 "metadata": {
  "kernelspec": {
   "display_name": "Python 3",
   "language": "python",
   "name": "python3"
  },
  "language_info": {
   "codemirror_mode": {
    "name": "ipython",
    "version": 3
   },
   "file_extension": ".py",
   "mimetype": "text/x-python",
   "name": "python",
   "nbconvert_exporter": "python",
   "pygments_lexer": "ipython3",
   "version": "3.8.5"
  }
 },
 "nbformat": 4,
 "nbformat_minor": 4
}
